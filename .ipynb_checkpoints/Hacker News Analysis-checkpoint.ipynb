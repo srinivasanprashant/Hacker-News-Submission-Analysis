{
 "cells": [
  {
   "cell_type": "markdown",
   "metadata": {},
   "source": [
    "Let's start by reading our Hacker News dataset into a pandas dataframe."
   ]
  },
  {
   "cell_type": "code",
   "execution_count": 4,
   "metadata": {},
   "outputs": [
    {
     "data": {
      "text/html": [
       "<div>\n",
       "<style scoped>\n",
       "    .dataframe tbody tr th:only-of-type {\n",
       "        vertical-align: middle;\n",
       "    }\n",
       "\n",
       "    .dataframe tbody tr th {\n",
       "        vertical-align: top;\n",
       "    }\n",
       "\n",
       "    .dataframe thead th {\n",
       "        text-align: right;\n",
       "    }\n",
       "</style>\n",
       "<table border=\"1\" class=\"dataframe\">\n",
       "  <thead>\n",
       "    <tr style=\"text-align: right;\">\n",
       "      <th></th>\n",
       "      <th>id</th>\n",
       "      <th>title</th>\n",
       "      <th>url</th>\n",
       "      <th>num_points</th>\n",
       "      <th>num_comments</th>\n",
       "      <th>author</th>\n",
       "      <th>created_at</th>\n",
       "    </tr>\n",
       "  </thead>\n",
       "  <tbody>\n",
       "    <tr>\n",
       "      <td>0</td>\n",
       "      <td>12224879</td>\n",
       "      <td>Interactive Dynamic Video</td>\n",
       "      <td>http://www.interactivedynamicvideo.com/</td>\n",
       "      <td>386</td>\n",
       "      <td>52</td>\n",
       "      <td>ne0phyte</td>\n",
       "      <td>8/4/2016 11:52</td>\n",
       "    </tr>\n",
       "    <tr>\n",
       "      <td>1</td>\n",
       "      <td>11964716</td>\n",
       "      <td>Florida DJs May Face Felony for April Fools' W...</td>\n",
       "      <td>http://www.thewire.com/entertainment/2013/04/f...</td>\n",
       "      <td>2</td>\n",
       "      <td>1</td>\n",
       "      <td>vezycash</td>\n",
       "      <td>6/23/2016 22:20</td>\n",
       "    </tr>\n",
       "    <tr>\n",
       "      <td>2</td>\n",
       "      <td>11919867</td>\n",
       "      <td>Technology ventures: From Idea to Enterprise</td>\n",
       "      <td>https://www.amazon.com/Technology-Ventures-Ent...</td>\n",
       "      <td>3</td>\n",
       "      <td>1</td>\n",
       "      <td>hswarna</td>\n",
       "      <td>6/17/2016 0:01</td>\n",
       "    </tr>\n",
       "    <tr>\n",
       "      <td>3</td>\n",
       "      <td>10301696</td>\n",
       "      <td>Note by Note: The Making of Steinway L1037 (2007)</td>\n",
       "      <td>http://www.nytimes.com/2007/11/07/movies/07ste...</td>\n",
       "      <td>8</td>\n",
       "      <td>2</td>\n",
       "      <td>walterbell</td>\n",
       "      <td>9/30/2015 4:12</td>\n",
       "    </tr>\n",
       "    <tr>\n",
       "      <td>4</td>\n",
       "      <td>10482257</td>\n",
       "      <td>Title II kills investment? Comcast and other I...</td>\n",
       "      <td>http://arstechnica.com/business/2015/10/comcas...</td>\n",
       "      <td>53</td>\n",
       "      <td>22</td>\n",
       "      <td>Deinos</td>\n",
       "      <td>10/31/2015 9:48</td>\n",
       "    </tr>\n",
       "    <tr>\n",
       "      <td>5</td>\n",
       "      <td>10557283</td>\n",
       "      <td>Nuts and Bolts Business Advice</td>\n",
       "      <td>NaN</td>\n",
       "      <td>3</td>\n",
       "      <td>4</td>\n",
       "      <td>shomberj</td>\n",
       "      <td>11/13/2015 0:45</td>\n",
       "    </tr>\n",
       "    <tr>\n",
       "      <td>6</td>\n",
       "      <td>12296411</td>\n",
       "      <td>Ask HN: How to improve my personal website?</td>\n",
       "      <td>NaN</td>\n",
       "      <td>2</td>\n",
       "      <td>6</td>\n",
       "      <td>ahmedbaracat</td>\n",
       "      <td>8/16/2016 9:55</td>\n",
       "    </tr>\n",
       "    <tr>\n",
       "      <td>7</td>\n",
       "      <td>11337617</td>\n",
       "      <td>Shims, Jigs and Other Woodworking Concepts to ...</td>\n",
       "      <td>http://firstround.com/review/shims-jigs-and-ot...</td>\n",
       "      <td>34</td>\n",
       "      <td>7</td>\n",
       "      <td>zt</td>\n",
       "      <td>3/22/2016 16:18</td>\n",
       "    </tr>\n",
       "    <tr>\n",
       "      <td>8</td>\n",
       "      <td>10379326</td>\n",
       "      <td>That self-appendectomy</td>\n",
       "      <td>http://www.southpolestation.com/trivia/igy1/ap...</td>\n",
       "      <td>91</td>\n",
       "      <td>10</td>\n",
       "      <td>jimsojim</td>\n",
       "      <td>10/13/2015 9:30</td>\n",
       "    </tr>\n",
       "    <tr>\n",
       "      <td>9</td>\n",
       "      <td>11370829</td>\n",
       "      <td>Crate raises $4M seed round for its next-gen S...</td>\n",
       "      <td>http://techcrunch.com/2016/03/15/crate-raises-...</td>\n",
       "      <td>3</td>\n",
       "      <td>1</td>\n",
       "      <td>hitekker</td>\n",
       "      <td>3/27/2016 18:08</td>\n",
       "    </tr>\n",
       "  </tbody>\n",
       "</table>\n",
       "</div>"
      ],
      "text/plain": [
       "         id                                              title  \\\n",
       "0  12224879                          Interactive Dynamic Video   \n",
       "1  11964716  Florida DJs May Face Felony for April Fools' W...   \n",
       "2  11919867       Technology ventures: From Idea to Enterprise   \n",
       "3  10301696  Note by Note: The Making of Steinway L1037 (2007)   \n",
       "4  10482257  Title II kills investment? Comcast and other I...   \n",
       "5  10557283                     Nuts and Bolts Business Advice   \n",
       "6  12296411        Ask HN: How to improve my personal website?   \n",
       "7  11337617  Shims, Jigs and Other Woodworking Concepts to ...   \n",
       "8  10379326                             That self-appendectomy   \n",
       "9  11370829  Crate raises $4M seed round for its next-gen S...   \n",
       "\n",
       "                                                 url  num_points  \\\n",
       "0            http://www.interactivedynamicvideo.com/         386   \n",
       "1  http://www.thewire.com/entertainment/2013/04/f...           2   \n",
       "2  https://www.amazon.com/Technology-Ventures-Ent...           3   \n",
       "3  http://www.nytimes.com/2007/11/07/movies/07ste...           8   \n",
       "4  http://arstechnica.com/business/2015/10/comcas...          53   \n",
       "5                                                NaN           3   \n",
       "6                                                NaN           2   \n",
       "7  http://firstround.com/review/shims-jigs-and-ot...          34   \n",
       "8  http://www.southpolestation.com/trivia/igy1/ap...          91   \n",
       "9  http://techcrunch.com/2016/03/15/crate-raises-...           3   \n",
       "\n",
       "   num_comments        author       created_at  \n",
       "0            52      ne0phyte   8/4/2016 11:52  \n",
       "1             1      vezycash  6/23/2016 22:20  \n",
       "2             1       hswarna   6/17/2016 0:01  \n",
       "3             2    walterbell   9/30/2015 4:12  \n",
       "4            22        Deinos  10/31/2015 9:48  \n",
       "5             4      shomberj  11/13/2015 0:45  \n",
       "6             6  ahmedbaracat   8/16/2016 9:55  \n",
       "7             7            zt  3/22/2016 16:18  \n",
       "8            10      jimsojim  10/13/2015 9:30  \n",
       "9             1      hitekker  3/27/2016 18:08  "
      ]
     },
     "execution_count": 4,
     "metadata": {},
     "output_type": "execute_result"
    }
   ],
   "source": [
    "# Import the pandas library.\n",
    "import pandas as pd\n",
    "\n",
    "# Read the hacker_news.csv file into a pandas dataframe\n",
    "hn = pd.read_csv(\"hacker_news.csv\")\n",
    "\n",
    "hn.head(10)"
   ]
  },
  {
   "cell_type": "code",
   "execution_count": 9,
   "metadata": {},
   "outputs": [
    {
     "data": {
      "text/html": [
       "<div>\n",
       "<style scoped>\n",
       "    .dataframe tbody tr th:only-of-type {\n",
       "        vertical-align: middle;\n",
       "    }\n",
       "\n",
       "    .dataframe tbody tr th {\n",
       "        vertical-align: top;\n",
       "    }\n",
       "\n",
       "    .dataframe thead th {\n",
       "        text-align: right;\n",
       "    }\n",
       "</style>\n",
       "<table border=\"1\" class=\"dataframe\">\n",
       "  <thead>\n",
       "    <tr style=\"text-align: right;\">\n",
       "      <th></th>\n",
       "      <th>id</th>\n",
       "      <th>num_points</th>\n",
       "      <th>num_comments</th>\n",
       "    </tr>\n",
       "  </thead>\n",
       "  <tbody>\n",
       "    <tr>\n",
       "      <td>count</td>\n",
       "      <td>2.009900e+04</td>\n",
       "      <td>20099.000000</td>\n",
       "      <td>20099.000000</td>\n",
       "    </tr>\n",
       "    <tr>\n",
       "      <td>mean</td>\n",
       "      <td>1.131755e+07</td>\n",
       "      <td>50.296632</td>\n",
       "      <td>24.803025</td>\n",
       "    </tr>\n",
       "    <tr>\n",
       "      <td>std</td>\n",
       "      <td>6.964531e+05</td>\n",
       "      <td>107.110322</td>\n",
       "      <td>56.108639</td>\n",
       "    </tr>\n",
       "    <tr>\n",
       "      <td>min</td>\n",
       "      <td>1.017691e+07</td>\n",
       "      <td>1.000000</td>\n",
       "      <td>1.000000</td>\n",
       "    </tr>\n",
       "    <tr>\n",
       "      <td>25%</td>\n",
       "      <td>1.070172e+07</td>\n",
       "      <td>3.000000</td>\n",
       "      <td>1.000000</td>\n",
       "    </tr>\n",
       "    <tr>\n",
       "      <td>50%</td>\n",
       "      <td>1.128452e+07</td>\n",
       "      <td>9.000000</td>\n",
       "      <td>3.000000</td>\n",
       "    </tr>\n",
       "    <tr>\n",
       "      <td>75%</td>\n",
       "      <td>1.192613e+07</td>\n",
       "      <td>54.000000</td>\n",
       "      <td>21.000000</td>\n",
       "    </tr>\n",
       "    <tr>\n",
       "      <td>max</td>\n",
       "      <td>1.257898e+07</td>\n",
       "      <td>2553.000000</td>\n",
       "      <td>1733.000000</td>\n",
       "    </tr>\n",
       "  </tbody>\n",
       "</table>\n",
       "</div>"
      ],
      "text/plain": [
       "                 id    num_points  num_comments\n",
       "count  2.009900e+04  20099.000000  20099.000000\n",
       "mean   1.131755e+07     50.296632     24.803025\n",
       "std    6.964531e+05    107.110322     56.108639\n",
       "min    1.017691e+07      1.000000      1.000000\n",
       "25%    1.070172e+07      3.000000      1.000000\n",
       "50%    1.128452e+07      9.000000      3.000000\n",
       "75%    1.192613e+07     54.000000     21.000000\n",
       "max    1.257898e+07   2553.000000   1733.000000"
      ]
     },
     "execution_count": 9,
     "metadata": {},
     "output_type": "execute_result"
    }
   ],
   "source": [
    "hn.describe()"
   ]
  },
  {
   "cell_type": "markdown",
   "metadata": {},
   "source": [
    "We're going to basic pattern searching using regex (re) to find out how many times Python is mentioned in the title of stories in our Hacker News dataset. We'll use a set to check for both Python with a capital 'P' and python with a lowercase 'p'."
   ]
  },
  {
   "cell_type": "code",
   "execution_count": 13,
   "metadata": {},
   "outputs": [
    {
     "data": {
      "text/plain": [
       "['Interactive Dynamic Video',\n",
       " \"Florida DJs May Face Felony for April Fools' Water Joke\",\n",
       " 'Technology ventures: From Idea to Enterprise',\n",
       " 'Note by Note: The Making of Steinway L1037 (2007)',\n",
       " 'Title II kills investment? Comcast and other ISPs are now spending more',\n",
       " 'Nuts and Bolts Business Advice',\n",
       " 'Ask HN: How to improve my personal website?',\n",
       " 'Shims, Jigs and Other Woodworking Concepts to Conquer Technical Debt',\n",
       " 'That self-appendectomy',\n",
       " 'Crate raises $4M seed round for its next-gen SQL database']"
      ]
     },
     "execution_count": 13,
     "metadata": {},
     "output_type": "execute_result"
    }
   ],
   "source": [
    "import re\n",
    "# extract a list, titles, containing all the titles from our dataset\n",
    "titles = hn[\"title\"].tolist()\n",
    "# see if the data in the list look reasonable\n",
    "titles[0:10]"
   ]
  },
  {
   "cell_type": "code",
   "execution_count": 23,
   "metadata": {},
   "outputs": [
    {
     "name": "stdout",
     "output_type": "stream",
     "text": [
      "Python was mentioned 160 times out of 20099 titles in our dataset\n"
     ]
    }
   ],
   "source": [
    "python_mentions = 0\n",
    "pattern = \"[Pp]ython\"\n",
    "for title in titles:\n",
    "    if (re.search(pattern, title)):\n",
    "        python_mentions += 1\n",
    "print(\"Python was mentioned {0} times out of {1} titles in our dataset\".format(str(python_mentions),str(len(titles))))"
   ]
  },
  {
   "cell_type": "markdown",
   "metadata": {},
   "source": [
    "Let's replicate this using pandas vectorized methods to make use of speed and code efficiencies"
   ]
  },
  {
   "cell_type": "code",
   "execution_count": 32,
   "metadata": {},
   "outputs": [
    {
     "name": "stdout",
     "output_type": "stream",
     "text": [
      "Python was mentioned 160 times out of 20099 titles in our dataset\n"
     ]
    }
   ],
   "source": [
    "pattern = '[Pp]ython'\n",
    "titles = hn[\"title\"]\n",
    "python_mentions = titles.str.contains(pattern).sum()\n",
    "print(\"Python was mentioned {0} times out of {1} titles in our dataset\".format(python_mentions,len(titles)))"
   ]
  },
  {
   "cell_type": "markdown",
   "metadata": {},
   "source": [
    "Let's continue looking through the data set and select all titles that mention the programming language Ruby, using a set to account for whether the word is capitalized or not."
   ]
  },
  {
   "cell_type": "code",
   "execution_count": 28,
   "metadata": {},
   "outputs": [
    {
     "data": {
      "text/plain": [
       "190                    Ruby on Google AppEngine Goes Beta\n",
       "484          Related: Pure Ruby Relational Algebra Engine\n",
       "1388    Show HN: HTTPalooza  Ruby's greatest HTTP clie...\n",
       "1949    Rewriting a Ruby C Extension in Rust: How a Na...\n",
       "2022    Show HN: CrashBreak  Reproduce exceptions as f...\n",
       "2163                  Ruby 2.3 Is Only 4% Faster than 2.2\n",
       "2306    Websocket Shootout: Clojure, C++, Elixir, Go, ...\n",
       "2620                      Why Startups Use Ruby on Rails?\n",
       "2645    Ask HN: Should I continue working a Ruby gem f...\n",
       "3290    Ruby on Rails and the importance of being stup...\n",
       "Name: title, dtype: object"
      ]
     },
     "execution_count": 28,
     "metadata": {},
     "output_type": "execute_result"
    }
   ],
   "source": [
    "titles = hn['title']\n",
    "ruby_titles = titles[titles.str.contains(\"[Rr]uby\")]\n",
    "ruby_titles.head(10)"
   ]
  },
  {
   "cell_type": "code",
   "execution_count": 31,
   "metadata": {},
   "outputs": [
    {
     "name": "stdout",
     "output_type": "stream",
     "text": [
      "Ruby was mentioned 48 times\n"
     ]
    }
   ],
   "source": [
    "print(\"Ruby was mentioned {0} times\".format(ruby_titles.size))"
   ]
  },
  {
   "cell_type": "markdown",
   "metadata": {},
   "source": [
    "Let's also find how many titles in our dataset mention email or e-mail."
   ]
  },
  {
   "cell_type": "code",
   "execution_count": 34,
   "metadata": {},
   "outputs": [
    {
     "data": {
      "text/plain": [
       "119     Show HN: Send an email from your shell to your...\n",
       "313         Disposable emails for safe spam free shopping\n",
       "1361    Ask HN: Doing cold emails? helps us prove this...\n",
       "1750    Protect yourself from spam, bots and phishing ...\n",
       "2421                   Ashley Madison hack treating email\n",
       "2685         Ask HN: Weather forecast in your email daily\n",
       "3379           Ask HN: How do we solve the email problem?\n",
       "3865    What Mailchimp does to make sure emails get de...\n",
       "3889    Show HN: Do you know what emails your competit...\n",
       "3921     Im killing most of my email capture. Here's why.\n",
       "Name: title, dtype: object"
      ]
     },
     "execution_count": 34,
     "metadata": {},
     "output_type": "execute_result"
    }
   ],
   "source": [
    "pattern = \"e-?mail\"\n",
    "email_bool = titles.str.contains(pattern)\n",
    "email_count = email_bool.sum()\n",
    "email_titles = titles[email_bool]\n",
    "email_titles.head(10)"
   ]
  },
  {
   "cell_type": "code",
   "execution_count": 42,
   "metadata": {},
   "outputs": [
    {
     "name": "stdout",
     "output_type": "stream",
     "text": [
      "email was mentioned 86 times\n"
     ]
    }
   ],
   "source": [
    "print(\"email was mentioned {0} times\".format(len(email_titles.index)))"
   ]
  },
  {
   "cell_type": "code",
   "execution_count": 45,
   "metadata": {},
   "outputs": [
    {
     "data": {
      "text/plain": [
       "86"
      ]
     },
     "execution_count": 45,
     "metadata": {},
     "output_type": "execute_result"
    }
   ],
   "source": [
    "email_titles.count()"
   ]
  },
  {
   "cell_type": "markdown",
   "metadata": {},
   "source": [
    "Some stories submitted to Hacker News include a topic tag in brackets, like [pdf] or [video]. Let's find how many titles in our dataset have tags."
   ]
  },
  {
   "cell_type": "code",
   "execution_count": 52,
   "metadata": {},
   "outputs": [
    {
     "data": {
      "text/plain": [
       "66     Analysis of 114 propaganda sources from ISIS, ...\n",
       "100    Munich Gunman Got Weapon from the Darknet [Ger...\n",
       "159         File indexing and searching for Plan 9 [pdf]\n",
       "162    Attack on Kunduz Trauma Centre, Afghanistan  I...\n",
       "195               [Beta] Speedtest.net  HTML5 Speed Test\n",
       "Name: title, dtype: object"
      ]
     },
     "execution_count": 52,
     "metadata": {},
     "output_type": "execute_result"
    }
   ],
   "source": [
    "pattern = \"\\[\\w+\\]\"\n",
    "tag_titles = titles[titles.str.contains(pattern)]\n",
    "tag_count = len(tag_titles.index)\n",
    "tag_titles.head()"
   ]
  },
  {
   "cell_type": "code",
   "execution_count": 53,
   "metadata": {},
   "outputs": [
    {
     "name": "stdout",
     "output_type": "stream",
     "text": [
      "Topic tags were mentioned 444 times\n"
     ]
    }
   ],
   "source": [
    "print(\"Topic tags were mentioned {0} times\".format(tag_count))"
   ]
  },
  {
   "cell_type": "markdown",
   "metadata": {},
   "source": [
    "What if we wanted to find out what the text of these tags were, and how many of each are in the dataset?"
   ]
  },
  {
   "cell_type": "code",
   "execution_count": 74,
   "metadata": {},
   "outputs": [
    {
     "name": "stdout",
     "output_type": "stream",
     "text": [
      "Total topic tags = 444\n",
      "Top 15 most frequently mentioned tags were:\n",
      "pdf           276\n",
      "video         111\n",
      "audio           3\n",
      "2015            3\n",
      "2014            2\n",
      "slides          2\n",
      "beta            2\n",
      "png             1\n",
      "JavaScript      1\n",
      "ask             1\n",
      "SpaceX          1\n",
      "2008            1\n",
      "USA             1\n",
      "Beta            1\n",
      "much            1\n",
      "Name: 0, dtype: int64\n"
     ]
    }
   ],
   "source": [
    "pattern = r\"\\[(\\w+)\\]\"\n",
    "tag_freq = titles.str.extract(pattern)[0].value_counts()\n",
    "print(\"Total topic tags = {}\".format(tag_count))\n",
    "print(\"Top 15 most frequently mentioned tags were:\")\n",
    "print(tag_freq.head(15))"
   ]
  },
  {
   "cell_type": "markdown",
   "metadata": {},
   "source": [
    "pdf and video are by far the two most frequent tags mentioned in the headline titles of our Hacker News dataset. "
   ]
  },
  {
   "cell_type": "markdown",
   "metadata": {},
   "source": [
    "Now let's look for titles with the word \"Java\" or \"java\". This needs to exclude common variations like JavaScript, etc."
   ]
  },
  {
   "cell_type": "code",
   "execution_count": 81,
   "metadata": {},
   "outputs": [
    {
     "name": "stdout",
     "output_type": "stream",
     "text": [
      "436                       Unikernel Power Comes to Java, Node.js, Go, and Python Apps\n",
      "811     Ask HN: Are there any projects or compilers which convert JavaScript to Java?\n",
      "1023                                                     Pippo  Web framework in Java\n",
      "1972                                      Node.js vs. Java: Which Is Faster for APIs?\n",
      "2093                                                Java EE and Microservices in 2016\n",
      "2367    Code that is valid in both PHP and Java, and produces the same output in both\n",
      "2493      Ask HN: I've been a java dev for a couple of years, should I move langauge?\n",
      "2751                                            Eventsourcing for Java 0.4.0 released\n",
      "3228                                                          Comparing Rust and Java\n",
      "3452      What are the Differences Between Java Platforms from Desktops to Wearables?\n",
      "Name: title, dtype: object\n"
     ]
    }
   ],
   "source": [
    "pattern = r\"\\b[Jj]ava\\b\"\n",
    "\n",
    "java_titles = titles[titles.str.contains(pattern)]\n",
    "pd.set_option('max_colwidth', 100)\n",
    "print(java_titles.head(10))"
   ]
  },
  {
   "cell_type": "code",
   "execution_count": 82,
   "metadata": {},
   "outputs": [
    {
     "name": "stdout",
     "output_type": "stream",
     "text": [
      "Java mentioned 54 times\n"
     ]
    }
   ],
   "source": [
    "print(\"Java mentioned {0} times\".format(len(java_titles.index)))"
   ]
  },
  {
   "cell_type": "markdown",
   "metadata": {},
   "source": [
    "Let's use beginning and end anchors to count how many titles have tags at the start versus the end of the story title in our Hacker News dataset."
   ]
  },
  {
   "cell_type": "code",
   "execution_count": 88,
   "metadata": {},
   "outputs": [],
   "source": [
    "beginning_count = titles.str.contains(r\"^\\[\\w+\\]\").sum()\n",
    "ending_count = titles.str.contains(r\"\\[\\w+\\]$\").sum()"
   ]
  },
  {
   "cell_type": "code",
   "execution_count": 89,
   "metadata": {},
   "outputs": [
    {
     "name": "stdout",
     "output_type": "stream",
     "text": [
      "Topic tags appeared 15 times at the start and 417 times at the end\n"
     ]
    }
   ],
   "source": [
    "print(\"Topic tags appeared {0} times at the start and {1} times at the end\".format(beginning_count,ending_count))"
   ]
  },
  {
   "cell_type": "markdown",
   "metadata": {},
   "source": [
    "Next, let's count the number of times that email is mentioned in story titles. We will have to check for all variations of email here such as eMail, Email, etc."
   ]
  },
  {
   "cell_type": "code",
   "execution_count": 102,
   "metadata": {},
   "outputs": [
    {
     "data": {
      "text/plain": [
       "119                   Show HN: Send an email from your shell to yourself without pain\n",
       "161     Computer Specialist Who Deleted Clinton Emails May Have Asked Reddit for Tips\n",
       "174                                                                   Email Apps Suck\n",
       "261         Emails Show Unqualified Clinton Foundation Donor Appointed to Intel Board\n",
       "313                                     Disposable emails for safe spam free shopping\n",
       "332                                                      Inky: Secure Email Made Easy\n",
       "1361    Ask HN: Doing cold emails? helps us prove this concept for closing more leads\n",
       "1750                  Protect yourself from spam, bots and phishing  disposable email\n",
       "1774              From Email Introductions to Addressing Diversity Challenges in Tech\n",
       "1900       Police Emails About Ahmed Mohamed: 'This Is What Happens When We Screw Up'\n",
       "Name: title, dtype: object"
      ]
     },
     "execution_count": 102,
     "metadata": {},
     "output_type": "execute_result"
    }
   ],
   "source": [
    "pattern = r\"\\be[- ]?mail\"\n",
    "# count the number of mentions of email in titles in the dataset\n",
    "email_mentions = titles.str.contains(pattern,flags=re.I)\n",
    "titles[email_mentions].head(10)"
   ]
  },
  {
   "cell_type": "code",
   "execution_count": 103,
   "metadata": {
    "scrolled": true
   },
   "outputs": [
    {
     "name": "stdout",
     "output_type": "stream",
     "text": [
      "Email appeared 143 times in the story titles in our data set\n"
     ]
    }
   ],
   "source": [
    "print(\"Email appeared {0} times in the story titles in our data set\".format(email_mentions.sum()))"
   ]
  },
  {
   "cell_type": "code",
   "execution_count": 108,
   "metadata": {},
   "outputs": [
    {
     "name": "stdout",
     "output_type": "stream",
     "text": [
      "email     79\n",
      "Email     56\n",
      "e-mail     5\n",
      "E-mail     2\n",
      "E-Mail     1\n",
      "Name: 0, dtype: int64\n"
     ]
    }
   ],
   "source": [
    "pattern = r\"(\\be[- ]?mail)\"\n",
    "email_freq = titles.str.extract(pattern,flags=re.I)[0].value_counts()\n",
    "print(email_freq.head(15))"
   ]
  },
  {
   "cell_type": "markdown",
   "metadata": {},
   "source": [
    "Use a case insensitive regex pattern that matches all case variations of the letters SQL in our dataset"
   ]
  },
  {
   "cell_type": "code",
   "execution_count": 118,
   "metadata": {},
   "outputs": [
    {
     "data": {
      "text/plain": [
       "9                          Crate raises $4M seed round for its next-gen SQL database\n",
       "394                                                     The History of SQL Injection\n",
       "419     Pentesterlab Tutorial  SQL injection to web admin console to getting a shell\n",
       "513                                                    Crab  SQL for your filesystem\n",
       "1164                           Show HN: Migrate  Sane database/sql migrations for Go\n",
       "1327                                                        Outlier Detection in SQL\n",
       "1960                  Microsoft SQL Server Images Available on Google Compute Engine\n",
       "2432                                          SQL for NoSQL: Couchbase N1QL Tutorial\n",
       "2543                                             PacketQ: SQL queries for pcap files\n",
       "2648                                 Hacking Microsoft SQL Server Without a Password\n",
       "Name: title, dtype: object"
      ]
     },
     "execution_count": 118,
     "metadata": {},
     "output_type": "execute_result"
    }
   ],
   "source": [
    "pattern = r\"\\bsql\\b\"\n",
    "sql_mentions = titles[titles.str.contains(pattern,flags=re.I)]\n",
    "sql_counts = len(sql_mentions.index)\n",
    "sql_mentions.head(10)"
   ]
  },
  {
   "cell_type": "code",
   "execution_count": 121,
   "metadata": {},
   "outputs": [
    {
     "name": "stdout",
     "output_type": "stream",
     "text": [
      "SQL appeared 39 times in the title in our dataset as a separate word\n"
     ]
    }
   ],
   "source": [
    "print(\"SQL appeared {} times in the title in our dataset as a separate word\".format(sql_counts))"
   ]
  },
  {
   "cell_type": "code",
   "execution_count": 120,
   "metadata": {},
   "outputs": [
    {
     "data": {
      "text/plain": [
       "SQL    36\n",
       "sql     3\n",
       "Name: 0, dtype: int64"
      ]
     },
     "execution_count": 120,
     "metadata": {},
     "output_type": "execute_result"
    }
   ],
   "source": [
    "titles.str.extract(r\"(\\bsql\\b)\",flags=re.I)[0].value_counts()"
   ]
  },
  {
   "cell_type": "markdown",
   "metadata": {},
   "source": [
    "While SQL shows up separately as a word in the titles 39 times (36 times as SQL and 3 times as sql) if we further expand our search into titles where SQL is part of a word like NoSQL, we should see more mentions."
   ]
  },
  {
   "cell_type": "code",
   "execution_count": 122,
   "metadata": {},
   "outputs": [
    {
     "data": {
      "text/plain": [
       "9                          Crate raises $4M seed round for its next-gen SQL database\n",
       "142                                             PostgreSQL: Linux VS Windows  part 2\n",
       "221                                             MemSQL (YC W11) Raises $36M Series C\n",
       "394                                                     The History of SQL Injection\n",
       "419     Pentesterlab Tutorial  SQL injection to web admin console to getting a shell\n",
       "513                                                    Crab  SQL for your filesystem\n",
       "683                                                SQLite: The art of keep it simple\n",
       "882                                       Pgmemcahe :A PostgreSQL memcache functions\n",
       "1160                How to choose an in-memory NoSQL solution: Performance measuring\n",
       "1164                           Show HN: Migrate  Sane database/sql migrations for Go\n",
       "Name: title, dtype: object"
      ]
     },
     "execution_count": 122,
     "metadata": {},
     "output_type": "execute_result"
    }
   ],
   "source": [
    "pattern = r\"sql\"\n",
    "sql_mentions = titles[titles.str.contains(pattern,flags=re.I)]\n",
    "sql_counts = len(sql_mentions.index)\n",
    "sql_mentions.head(10)"
   ]
  },
  {
   "cell_type": "code",
   "execution_count": 123,
   "metadata": {},
   "outputs": [
    {
     "name": "stdout",
     "output_type": "stream",
     "text": [
      "SQL is mentioned 108 times in the title in our dataset\n"
     ]
    }
   ],
   "source": [
    "print(\"SQL is mentioned {} times in the title in our dataset\".format(sql_counts))"
   ]
  },
  {
   "cell_type": "markdown",
   "metadata": {},
   "source": [
    "So SQL shows up more frequently once we look at mentions inside other words like PostgreSQL and SQLite.  Let's look at titles that have letters immediately before the \"SQL\" which is a convention often used to denote different variations or flavors of SQL and create a frequency table to understand the usage of SQL a bit better:"
   ]
  },
  {
   "cell_type": "code",
   "execution_count": 135,
   "metadata": {},
   "outputs": [
    {
     "data": {
      "text/plain": [
       "PostgreSQL    27\n",
       "NoSQL         16\n",
       "MySQL         12\n",
       "MemSQL         1\n",
       "mySql          1\n",
       "nosql          1\n",
       "CloudSQL       1\n",
       "SparkSQL       1\n",
       "Name: 0, dtype: int64"
      ]
     },
     "execution_count": 135,
     "metadata": {},
     "output_type": "execute_result"
    }
   ],
   "source": [
    "pattern = r\"(\\w+sql)\"\n",
    "sql_flavors = titles.str.extract(pattern, flags=re.I)\n",
    "sql_flavors[0].value_counts()"
   ]
  },
  {
   "cell_type": "markdown",
   "metadata": {},
   "source": [
    "The frequency table above shows some variations of nosql and mysql. Let's extract the mentions of different SQL flavors into a new column and clean those duplicates by making them all lowercase. We'll then analyze the results to look at the average number of comments for each flavor."
   ]
  },
  {
   "cell_type": "code",
   "execution_count": 138,
   "metadata": {},
   "outputs": [
    {
     "name": "stdout",
     "output_type": "stream",
     "text": [
      "            num_comments\n",
      "flavor                  \n",
      "cloudsql        5.000000\n",
      "memsql         14.000000\n",
      "mysql          12.230769\n",
      "nosql          14.529412\n",
      "postgresql     25.962963\n",
      "sparksql        1.000000\n"
     ]
    }
   ],
   "source": [
    "hn_sql = hn[hn['title'].str.contains(r\"\\w+SQL\", flags=re.I)].copy()\n",
    "hn_sql[\"flavor\"] = hn_sql[\"title\"].str.extract(r\"(\\w+SQL)\", flags=re.I)[0].str.lower()\n",
    "# create a pivot table to look at the grouped data\n",
    "sql_pivot = hn_sql.pivot_table(index=\"flavor\", values=\"num_comments\")\n",
    "print(sql_pivot)"
   ]
  },
  {
   "cell_type": "code",
   "execution_count": 144,
   "metadata": {},
   "outputs": [
    {
     "data": {
      "text/plain": [
       "<matplotlib.axes._subplots.AxesSubplot at 0x11f6b66d0>"
      ]
     },
     "execution_count": 144,
     "metadata": {},
     "output_type": "execute_result"
    },
    {
     "data": {
      "image/png": "[encoded data removed]",
      "text/plain": [
       "<Figure size 432x288 with 1 Axes>"
      ]
     },
     "metadata": {
      "needs_background": "light"
     },
     "output_type": "display_data"
    }
   ],
   "source": [
    "import matplotlib.pyplot as plt\n",
    "%matplotlib inline\n",
    "sql_pivot.plot(kind=\"bar\")"
   ]
  },
  {
   "cell_type": "markdown",
   "metadata": {},
   "source": [
    "There are flavors that have letters after SQL as well, so let's look at those flavors of SQL as well."
   ]
  },
  {
   "cell_type": "code",
   "execution_count": 145,
   "metadata": {},
   "outputs": [
    {
     "data": {
      "text/plain": [
       "SQLite    12\n",
       "SqlPad     1\n",
       "Sqlite     1\n",
       "Sqlata     1\n",
       "Name: 0, dtype: int64"
      ]
     },
     "execution_count": 145,
     "metadata": {},
     "output_type": "execute_result"
    }
   ],
   "source": [
    "pattern = r\"(sql\\w+)\"\n",
    "sql_flavors = titles.str.extract(pattern, flags=re.I)\n",
    "sql_flavors[0].value_counts()"
   ]
  },
  {
   "cell_type": "code",
   "execution_count": null,
   "metadata": {},
   "outputs": [],
   "source": []
  }
 ],
 "metadata": {
  "kernelspec": {
   "display_name": "Python 3",
   "language": "python",
   "name": "python3"
  },
  "language_info": {
   "codemirror_mode": {
    "name": "ipython",
    "version": 3
   },
   "file_extension": ".py",
   "mimetype": "text/x-python",
   "name": "python",
   "nbconvert_exporter": "python",
   "pygments_lexer": "ipython3",
   "version": "3.7.4"
  }
 },
 "nbformat": 4,
 "nbformat_minor": 2
}
